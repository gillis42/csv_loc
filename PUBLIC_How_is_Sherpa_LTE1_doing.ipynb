{
  "nbformat": 4,
  "nbformat_minor": 0,
  "metadata": {
    "colab": {
      "provenance": [],
      "authorship_tag": "ABX9TyOBa3YJL6oChvMO/6rmtXRO",
      "include_colab_link": true
    },
    "kernelspec": {
      "name": "python3",
      "display_name": "Python 3"
    }
  },
  "cells": [
    {
      "cell_type": "markdown",
      "metadata": {
        "id": "view-in-github",
        "colab_type": "text"
      },
      "source": [
        "<a href=\"https://colab.research.google.com/github/gillis42/csv_loc/blob/master/PUBLIC_How_is_Sherpa_LTE1_doing.ipynb\" target=\"_parent\"><img src=\"https://colab.research.google.com/assets/colab-badge.svg\" alt=\"Open In Colab\"/></a>"
      ]
    },
    {
      "cell_type": "markdown",
      "metadata": {
        "id": "yeLl52J4kmL6"
      },
      "source": [
        "# Process and plot TLE data for Sherpa LTE1  \n",
        "\n",
        "Throw away login details:\n",
        "\n",
        "*   searchingforsherpaman@gmail.com\n",
        "*   SherpaLTE1_July2021\n",
        "*   noad_cat_id = 48941\n",
        "\n",
        "(these may expire, recommend making a copy of this notebook and getting your own login details at  https://www.space-track.org)\n",
        "\n",
        "You can search for spacecraft on  https://www.space-track.org and find the norad_cat_id number to plot. Some fun things to plot:\n",
        "\n",
        "*  Sherpa-LTE1 48941\n",
        "*  Sherpa-FX2 48958\n",
        "*  Sherpa-LTC2 53754  \n",
        "*  Bluewawalker-3 53807\n",
        "*  Photon 47974\n",
        "*  Thrust ME 46834\n",
        "*  TACSAT 2 29653 \n",
        "*  Exotrail 46913\n",
        "*  A Skysat 42991\n",
        "*  Momentus\n",
        "*  MOMENTUS-X1 44408 \n",
        "*  Momentus Vigoride-3 (Transporter-5) 52760   \n",
        "*  D-orbit Ion\n",
        "*  47504 \tION SCV-002\n",
        "*  48912 \tION SCV-003 (Transporter 2)\n",
        "*  50993 \tION SCV-004\n",
        "*  52163 \tION SCV-005\n",
        "*  SCV006 (Transporter-5) 70330\n",
        "*  Capella \n",
        "*  43791 \tCAPELLA-1\t\n",
        "*  46269 \tCAPELLA-2\t\n",
        "*  47481 \tCAPELLA-4 (WHITNEY)\t\n",
        "*  47489 \tCAPELLA-3 (WHITNEY)\t\n",
        "*  48605 \tCAPELLA-6 (WHITNEY)\t\n",
        "*  48913 \tCAPELLA-5 (WHITNEY)\t(Transproter 2)\n",
        "*  51071 \tCAPELLA-8 (WHITNEY)\t\n",
        "*  51072 \tCAPELLA-7 (WHITNEY)\n",
        "*  Astra Sat 49494\n",
        "*  ISS 25544 (Takes a while as 20 years of data)\n"
      ]
    },
    {
      "cell_type": "code",
      "metadata": {
        "id": "JaFO9JWYmN3g",
        "colab": {
          "base_uri": "https://localhost:8080/",
          "height": 743
        },
        "outputId": "6f2a69c0-7423-4638-bcef-fc0ba58f4881",
        "cellView": "form"
      },
      "source": [
        "import sys\n",
        "import re\n",
        "import csv\n",
        "from datetime import datetime\n",
        "import matplotlib as mpl\n",
        "import matplotlib.pyplot as plt\n",
        "import numpy as np\n",
        "import pandas as pd\n",
        "from google.colab import files\n",
        "from google.colab import drive\n",
        "import os\n",
        "\n",
        "#@title Requires email and password from https://www.space-track.org.\n",
        "\n",
        "spacetrack_email = 'searchingforsherpaman@gmail.com' #@param {type:\"string\"}\n",
        "spacetrack_password = 'SherpaLTE1_July2021' #@param {type:\"string\"}\n",
        "satellite1_norad_cat_id =  48941#@param {type:\"integer\"}\n",
        "satellite1_label = 'Sherpa-LTE1' #@param {type:\"string\"}\n",
        "\n",
        "\n",
        "drive.mount('/content/gdrive')\n",
        "%cd \"/content/gdrive/My Drive/Colab Notebooks/\"\n",
        "\n",
        "# Install and loginto Spacetrack app (note, they do restrict logins so you can get blocekd)\n",
        "!pip install spacetrack\n",
        "import spacetrack.operators as op\n",
        "from spacetrack import SpaceTrackClient\n",
        "import spacetrack.operators as op\n",
        "\n",
        "#Matthew login\n",
        "st = SpaceTrackClient(identity=spacetrack_email, password=spacetrack_password)\n",
        "\n",
        "#fig = plt.figure(figsize=(12,6.75), dpi=100)\n",
        "fig = plt.figure(figsize=(9,5), dpi=100)\n",
        "ax = fig.add_subplot(1,1,1)\n",
        "\n",
        "# Streaming downloads line by line\n",
        "# 48941 is SHERPA LTE1\n",
        "if satellite1_norad_cat_id != 0:\n",
        "  lines = st.tle(iter_lines=True, norad_cat_id=satellite1_norad_cat_id, format='kvn')\n",
        "  with open('kvn.txt', 'w') as fp:\n",
        "      for line in lines:\n",
        "          fp.write(line + '\\n')\n",
        "\n",
        "  # Extract data from files using bash (janky but it's the way I know best)\n",
        "  !grep 'MEAN_MOTION                        =' kvn.txt > MEANMOTION.txt\n",
        "  !grep 'EPOCH                              =2' kvn.txt > EPOCH.txt\n",
        "  !sed -i 's:.*=::' MEANMOTION.txt \n",
        "  !sed -i 's:.*=::' EPOCH.txt \n",
        "\n",
        "  # Process files to get Semi Major axis data (this is the only value we need)\n",
        "  filename = '/content/gdrive/My Drive/Colab Notebooks/'\n",
        "  data_tle = pd.read_csv(filename + 'MEANMOTION.txt')\n",
        "  data_epoch = pd.read_csv(filename + 'EPOCH.txt')\n",
        "  data = pd.concat([data_epoch, data_tle], axis=1)\n",
        "  data.columns = ['Date', 'Mean Motion'] \n",
        "  data[\"Date\"] = pd.to_datetime(data['Date'])#, unit='s')\n",
        "  data['rad per s'] = data['Mean Motion']*((2*np.pi)/86400)\n",
        "  data['Semi-major axis'] = (((398600.4418)**(1/3))/(data['rad per s']**(2/3)))-6378.137 \n",
        "\n",
        "  # Plot\n",
        "  ax.plot(data['Date'][10:], data['Semi-major axis'][10:], color='0', marker='', ls='-', markersize=3, label=satellite1_label)\n",
        "\n",
        "  # Remove remporary files\n",
        "  !rm kvn.txt MEANMOTION.txt EPOCH.txt\n",
        "\n",
        "\n",
        "ax.spines[\"top\"].set_visible(False)\n",
        "ax.spines[\"right\"].set_visible(False)\n",
        "ax.set_ylabel('Semi-major axis (km)', fontsize=10)\n",
        "ax.set_xlabel('Date', fontsize=10)\n",
        "ax.legend(loc='upper right', frameon=False)\n",
        "# ax.set_ylim([200, 500])\n",
        "\n",
        "\n",
        "plt.plot()\n",
        "\n"
      ],
      "execution_count": null,
      "outputs": [
        {
          "output_type": "stream",
          "name": "stdout",
          "text": [
            "Drive already mounted at /content/gdrive; to attempt to forcibly remount, call drive.mount(\"/content/gdrive\", force_remount=True).\n",
            "/content/gdrive/My Drive/Colab Notebooks\n",
            "Looking in indexes: https://pypi.org/simple, https://us-python.pkg.dev/colab-wheels/public/simple/\n",
            "Requirement already satisfied: spacetrack in /usr/local/lib/python3.8/dist-packages (0.16.0)\n",
            "Requirement already satisfied: requests in /usr/local/lib/python3.8/dist-packages (from spacetrack) (2.23.0)\n",
            "Requirement already satisfied: rush in /usr/local/lib/python3.8/dist-packages (from spacetrack) (2021.4.0)\n",
            "Requirement already satisfied: logbook>=0.12.3 in /usr/local/lib/python3.8/dist-packages (from spacetrack) (1.5.3)\n",
            "Requirement already satisfied: represent>=1.4.0 in /usr/local/lib/python3.8/dist-packages (from spacetrack) (1.6.0.post0)\n",
            "Requirement already satisfied: python-dateutil in /usr/local/lib/python3.8/dist-packages (from spacetrack) (2.8.2)\n",
            "Requirement already satisfied: six>=1.8.0 in /usr/local/lib/python3.8/dist-packages (from represent>=1.4.0->spacetrack) (1.15.0)\n",
            "Requirement already satisfied: urllib3!=1.25.0,!=1.25.1,<1.26,>=1.21.1 in /usr/local/lib/python3.8/dist-packages (from requests->spacetrack) (1.24.3)\n",
            "Requirement already satisfied: certifi>=2017.4.17 in /usr/local/lib/python3.8/dist-packages (from requests->spacetrack) (2022.9.24)\n",
            "Requirement already satisfied: idna<3,>=2.5 in /usr/local/lib/python3.8/dist-packages (from requests->spacetrack) (2.10)\n",
            "Requirement already satisfied: chardet<4,>=3.0.2 in /usr/local/lib/python3.8/dist-packages (from requests->spacetrack) (3.0.4)\n",
            "Requirement already satisfied: attrs>=18.1.0 in /usr/local/lib/python3.8/dist-packages (from rush->spacetrack) (22.1.0)\n"
          ]
        },
        {
          "output_type": "execute_result",
          "data": {
            "text/plain": [
              "[]"
            ]
          },
          "metadata": {},
          "execution_count": 6
        },
        {
          "output_type": "display_data",
          "data": {
            "text/plain": [
              "<Figure size 900x500 with 1 Axes>"
            ],
            "image/png": "[encoded data removed]"
          },
          "metadata": {
            "needs_background": "light"
          }
        }
      ]
    }
  ]
}