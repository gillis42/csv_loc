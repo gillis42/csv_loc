{
  "nbformat": 4,
  "nbformat_minor": 0,
  "metadata": {
    "colab": {
      "name": "PUBLIC - How is Sherpa-LTE1 doing",
      "provenance": [],
      "authorship_tag": "ABX9TyNqyZSqN2qlKwCkqfGMWuRs",
      "include_colab_link": true
    },
    "kernelspec": {
      "name": "python3",
      "display_name": "Python 3"
    }
  },
  "cells": [
    {
      "cell_type": "markdown",
      "metadata": {
        "id": "view-in-github",
        "colab_type": "text"
      },
      "source": [
        "<a href=\"https://colab.research.google.com/github/gillis42/csv_loc/blob/master/PUBLIC_How_is_Sherpa_LTE1_doing.ipynb\" target=\"_parent\"><img src=\"https://colab.research.google.com/assets/colab-badge.svg\" alt=\"Open In Colab\"/></a>"
      ]
    },
    {
      "cell_type": "markdown",
      "metadata": {
        "id": "yeLl52J4kmL6"
      },
      "source": [
        "# Process and plot TLE DATA for Sherpa LTE1 using \n",
        "searchingforsherpaman@gmail.com\n",
        "\n",
        "SherpaLTE1_July2021\n",
        "\n",
        "Sherpa-LTE1 noad_cat_id = 48941"
      ]
    },
    {
      "cell_type": "code",
      "metadata": {
        "id": "JaFO9JWYmN3g",
        "colab": {
          "base_uri": "https://localhost:8080/",
          "height": 648
        },
        "outputId": "c9959b60-f36a-4c18-d094-68a9924708c4",
        "cellView": "form"
      },
      "source": [
        "import sys\n",
        "import re\n",
        "import csv\n",
        "from datetime import datetime\n",
        "import matplotlib as mpl\n",
        "import matplotlib.pyplot as plt\n",
        "import numpy as np\n",
        "import pandas as pd\n",
        "from google.colab import files\n",
        "from google.colab import drive\n",
        "import os\n",
        "\n",
        "#@title Require email and password from https://www.space-track.org \n",
        "sat_email = 'searchingforsherpaman@gmail.com' #@param {type:\"string\"}\n",
        "sat_password = 'SherpaLTE1_July2021' #@param {type:\"string\"}\n",
        "satellite_norad_cat_id = 48941 #@param {type:\"integer\"}\n",
        "\n",
        "\n",
        "drive.mount('/content/gdrive')\n",
        "%cd \"/content/gdrive/My Drive/Colab Notebooks/\"\n",
        "\n",
        "# Install and loginto Spacetrack app (note, they do restrict logins so you can get blocekd)\n",
        "!pip install spacetrack\n",
        "import spacetrack.operators as op\n",
        "from spacetrack import SpaceTrackClient\n",
        "import spacetrack.operators as op\n",
        "\n",
        "#Matthew login\n",
        "st = SpaceTrackClient(identity=sat_email, password=sat_password)\n",
        "\n",
        "# Streaming downloads line by line\n",
        "# 48941 is SHERPA LTE1\n",
        "lines = st.tle(iter_lines=True, norad_cat_id=Satellite_norad_cat_id, format='kvn')\n",
        "with open('kvn.txt', 'w') as fp:\n",
        "    for line in lines:\n",
        "        fp.write(line + '\\n')\n",
        "\n",
        "# Extract data from files using bash\n",
        "!grep 'MEAN_MOTION                        =' kvn.txt > MEANMOTION.txt\n",
        "!grep 'EPOCH                              =2' kvn.txt > EPOCH.txt\n",
        "!sed -i 's:.*=::' MEANMOTION.txt \n",
        "!sed -i 's:.*=::' EPOCH.txt \n",
        "\n",
        "# Process files to get Semi Major axis data (this is the only value we need)\n",
        "filename = '/content/gdrive/My Drive/Colab Notebooks/'\n",
        "data_tle = pd.read_csv(filename + 'MEANMOTION.txt')\n",
        "data_epoch = pd.read_csv(filename + 'EPOCH.txt')\n",
        "data = pd.concat([data_epoch, data_tle], axis=1)\n",
        "data.columns = ['Date', 'Mean Motion'] \n",
        "data[\"Date\"] = pd.to_datetime(data['Date'])#, unit='s')\n",
        "data['rad per s'] = data['Mean Motion']*((2*np.pi)/86400)\n",
        "data['Semi-major axis'] = (((398600.4418)**(1/3))/(data['rad per s']**(2/3)))-6378.137 \n",
        "\n",
        "# Plot\n",
        "fig = plt.figure(figsize=(12,6))\n",
        "ax = fig.add_subplot(1,1,1)\n",
        "ax.plot(data['Date'], data['Semi-major axis'], color='0', marker='o', markersize=3, ls='')\n",
        "\n",
        "\n",
        "ax.spines[\"top\"].set_visible(False)\n",
        "ax.spines[\"right\"].set_visible(False)\n",
        "ax.set_ylabel('Semi-major axis (km)', fontsize=10)\n",
        "ax.set_xlabel('Date', fontsize=10)\n",
        "\n",
        "plt.plot()"
      ],
      "execution_count": 6,
      "outputs": [
        {
          "output_type": "stream",
          "name": "stdout",
          "text": [
            "Drive already mounted at /content/gdrive; to attempt to forcibly remount, call drive.mount(\"/content/gdrive\", force_remount=True).\n",
            "/content/gdrive/My Drive/Colab Notebooks\n",
            "Requirement already satisfied: spacetrack in /usr/local/lib/python3.7/dist-packages (0.16.0)\n",
            "Requirement already satisfied: logbook>=0.12.3 in /usr/local/lib/python3.7/dist-packages (from spacetrack) (1.5.3)\n",
            "Requirement already satisfied: requests in /usr/local/lib/python3.7/dist-packages (from spacetrack) (2.23.0)\n",
            "Requirement already satisfied: represent>=1.4.0 in /usr/local/lib/python3.7/dist-packages (from spacetrack) (1.6.0.post0)\n",
            "Requirement already satisfied: rush in /usr/local/lib/python3.7/dist-packages (from spacetrack) (2021.4.0)\n",
            "Requirement already satisfied: python-dateutil in /usr/local/lib/python3.7/dist-packages (from spacetrack) (2.8.2)\n",
            "Requirement already satisfied: six>=1.8.0 in /usr/local/lib/python3.7/dist-packages (from represent>=1.4.0->spacetrack) (1.15.0)\n",
            "Requirement already satisfied: chardet<4,>=3.0.2 in /usr/local/lib/python3.7/dist-packages (from requests->spacetrack) (3.0.4)\n",
            "Requirement already satisfied: urllib3!=1.25.0,!=1.25.1,<1.26,>=1.21.1 in /usr/local/lib/python3.7/dist-packages (from requests->spacetrack) (1.24.3)\n",
            "Requirement already satisfied: idna<3,>=2.5 in /usr/local/lib/python3.7/dist-packages (from requests->spacetrack) (2.10)\n",
            "Requirement already satisfied: certifi>=2017.4.17 in /usr/local/lib/python3.7/dist-packages (from requests->spacetrack) (2021.10.8)\n",
            "Requirement already satisfied: attrs>=18.1.0 in /usr/local/lib/python3.7/dist-packages (from rush->spacetrack) (21.4.0)\n"
          ]
        },
        {
          "output_type": "execute_result",
          "data": {
            "text/plain": [
              "[]"
            ]
          },
          "metadata": {},
          "execution_count": 6
        },
        {
          "output_type": "display_data",
          "data": {
            "image/png": "[encoded data removed]",
            "text/plain": [
              "<Figure size 864x432 with 1 Axes>"
            ]
          },
          "metadata": {
            "needs_background": "light"
          }
        }
      ]
    }
  ]
}