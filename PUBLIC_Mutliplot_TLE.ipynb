{
  "nbformat": 4,
  "nbformat_minor": 0,
  "metadata": {
    "colab": {
      "name": "PUBLIC - Mutliplot TLE",
      "provenance": [],
      "authorship_tag": "ABX9TyMH4iGXvy5y4xJMIyQdEGcB",
      "include_colab_link": true
    },
    "kernelspec": {
      "name": "python3",
      "display_name": "Python 3"
    }
  },
  "cells": [
    {
      "cell_type": "markdown",
      "metadata": {
        "id": "view-in-github",
        "colab_type": "text"
      },
      "source": [
        "<a href=\"https://colab.research.google.com/github/gillis42/csv_loc/blob/master/PUBLIC_Mutliplot_TLE.ipynb\" target=\"_parent\"><img src=\"https://colab.research.google.com/assets/colab-badge.svg\" alt=\"Open In Colab\"/></a>"
      ]
    },
    {
      "cell_type": "markdown",
      "metadata": {
        "id": "yeLl52J4kmL6"
      },
      "source": [
        "# Process and plot TLE DATA for Sherpa LTE1  \n",
        "\n",
        "Throw away login details:\n",
        "\n",
        "*   searchingforsherpaman@gmail.com\n",
        "*   SherpaLTE1_July2021\n",
        "*   noad_cat_id = 48941\n",
        "\n",
        "(note these may expire, reccomend making a copy of this notebook and getting your own login details)\n",
        "\n",
        "Notbook is designed to plot altitude for 3 spacecraft. Set norad_cat_id to '0' if you don't want the 2nd or 3rd plots\n",
        "\n",
        "Fun things to plot:\n",
        "\n",
        "*  Sherpa-LTE1 48941\n",
        "*  Sherpa-FX2 48958\n",
        "*  Photon 47974\n",
        "*  A Skysat 42991\n",
        "*  D-orbit Ion from Transporter 2 48912\n",
        "*  Capella on transporter 2 48913\n",
        "*  Astra Sat 49494\n",
        "*  ISS 25544 (Takes a while as 20 years of data)\n",
        "\n",
        "Note, this is on a time/date x-axis so data won't line up spacecraft launched on different dates "
      ]
    },
    {
      "cell_type": "code",
      "metadata": {
        "id": "JaFO9JWYmN3g",
        "colab": {
          "base_uri": "https://localhost:8080/",
          "height": 664
        },
        "outputId": "3e6e479b-c971-4a9a-dd0c-21eb68c91767"
      },
      "source": [
        "import sys\n",
        "import re\n",
        "import csv\n",
        "from datetime import datetime\n",
        "import matplotlib as mpl\n",
        "import matplotlib.pyplot as plt\n",
        "import numpy as np\n",
        "import pandas as pd\n",
        "from google.colab import files\n",
        "from google.colab import drive\n",
        "import os\n",
        "\n",
        "#@title Require email and password from https://www.space-track.org.\n",
        "\n",
        "spacetrack_email = 'searchingforsherpaman@gmail.com' #@param {type:\"string\"}\n",
        "spacetrack_password = 'SherpaLTE1_July2021' #@param {type:\"string\"}\n",
        "satellite1_norad_cat_id = 48941 #@param {type:\"integer\"}\n",
        "satellite1_label = 'Sherpa-LTE1' #@param {type:\"string\"}\n",
        "satellite2_norad_cat_id = 48958 #@param {type:\"integer\"}\n",
        "satellite2_label = 'Sherpa-FX2' #@param {type:\"string\"}\n",
        "satellite3_norad_cat_id = 48913 #@param {type:\"integer\"}\n",
        "satellite3_label = 'Capella on Transporter 2' #@param {type:\"string\"}\n",
        "\n",
        "\n",
        "drive.mount('/content/gdrive')\n",
        "%cd \"/content/gdrive/My Drive/Colab Notebooks/\"\n",
        "\n",
        "# Install and loginto Spacetrack app (note, they do restrict logins so you can get blocekd)\n",
        "!pip install spacetrack\n",
        "import spacetrack.operators as op\n",
        "from spacetrack import SpaceTrackClient\n",
        "import spacetrack.operators as op\n",
        "\n",
        "#Matthew login\n",
        "st = SpaceTrackClient(identity=spacetrack_email, password=spacetrack_password)\n",
        "\n",
        "fig = plt.figure(figsize=(12,6))\n",
        "ax = fig.add_subplot(1,1,1)\n",
        "\n",
        "# Streaming downloads line by line\n",
        "# 48941 is SHERPA LTE1\n",
        "if satellite1_norad_cat_id != 0:\n",
        "  lines = st.tle(iter_lines=True, norad_cat_id=satellite1_norad_cat_id, format='kvn')\n",
        "  with open('kvn.txt', 'w') as fp:\n",
        "      for line in lines:\n",
        "          fp.write(line + '\\n')\n",
        "\n",
        "  # Extract data from files using bash\n",
        "  !grep 'MEAN_MOTION                        =' kvn.txt > MEANMOTION.txt\n",
        "  !grep 'EPOCH                              =2' kvn.txt > EPOCH.txt\n",
        "  !sed -i 's:.*=::' MEANMOTION.txt \n",
        "  !sed -i 's:.*=::' EPOCH.txt \n",
        "\n",
        "  # Process files to get Semi Major axis data (this is the only value we need)\n",
        "  filename = '/content/gdrive/My Drive/Colab Notebooks/'\n",
        "  data_tle = pd.read_csv(filename + 'MEANMOTION.txt')\n",
        "  data_epoch = pd.read_csv(filename + 'EPOCH.txt')\n",
        "  data = pd.concat([data_epoch, data_tle], axis=1)\n",
        "  data.columns = ['Date', 'Mean Motion'] \n",
        "  data[\"Date\"] = pd.to_datetime(data['Date'])#, unit='s')\n",
        "  data['rad per s'] = data['Mean Motion']*((2*np.pi)/86400)\n",
        "  data['Semi-major axis'] = (((398600.4418)**(1/3))/(data['rad per s']**(2/3)))-6378.137 \n",
        "\n",
        "  # Plot\n",
        "  ax.plot(data['Date'][10:], data['Semi-major axis'][10:], color='0', ls='-', label=satellite1_label)\n",
        "  !rm kvn.txt MEANMOTION.txt EPOCH.txt\n",
        "\n",
        "\n",
        "# TLE for satellite 2\n",
        "if satellite2_norad_cat_id != 0:\n",
        "  lines = st.tle(iter_lines=True, norad_cat_id=satellite2_norad_cat_id, format='kvn')\n",
        "  with open('kvn.txt', 'w') as fp:\n",
        "      for line in lines:\n",
        "          fp.write(line + '\\n')\n",
        "\n",
        "  # Extract data from files using bash\n",
        "  !grep 'MEAN_MOTION                        =' kvn.txt > MEANMOTION.txt\n",
        "  !grep 'EPOCH                              =2' kvn.txt > EPOCH.txt\n",
        "  !sed -i 's:.*=::' MEANMOTION.txt \n",
        "  !sed -i 's:.*=::' EPOCH.txt \n",
        "\n",
        "  # Process files to get Semi Major axis data (this is the only value we need)\n",
        "  filename = '/content/gdrive/My Drive/Colab Notebooks/'\n",
        "  data_tle = pd.read_csv(filename + 'MEANMOTION.txt')\n",
        "  data_epoch = pd.read_csv(filename + 'EPOCH.txt')\n",
        "  data = pd.concat([data_epoch, data_tle], axis=1)\n",
        "  data.columns = ['Date', 'Mean Motion'] \n",
        "  data[\"Date\"] = pd.to_datetime(data['Date'])#, unit='s')\n",
        "  data['rad per s'] = data['Mean Motion']*((2*np.pi)/86400)\n",
        "  data['Semi-major axis'] = (((398600.4418)**(1/3))/(data['rad per s']**(2/3)))-6378.137 \n",
        "\n",
        "  # Plot\n",
        "  ax.plot(data['Date'][10:], data['Semi-major axis'][10:], color='0.5', ls='-', label=satellite2_label)\n",
        "  !rm kvn.txt MEANMOTION.txt EPOCH.txt\n",
        "\n",
        "\n",
        "# TLE for satellite 3\n",
        "if satellite3_norad_cat_id != 0:\n",
        "  lines = st.tle(iter_lines=True, norad_cat_id=satellite3_norad_cat_id, format='kvn')\n",
        "  with open('kvn.txt', 'w') as fp:\n",
        "      for line in lines:\n",
        "          fp.write(line + '\\n')\n",
        "\n",
        "  # Extract data from files using bash\n",
        "  !grep 'MEAN_MOTION                        =' kvn.txt > MEANMOTION.txt\n",
        "  !grep 'EPOCH                              =2' kvn.txt > EPOCH.txt\n",
        "  !sed -i 's:.*=::' MEANMOTION.txt \n",
        "  !sed -i 's:.*=::' EPOCH.txt \n",
        "\n",
        "  # Process files to get Semi Major axis data (this is the only value we need)\n",
        "  filename = '/content/gdrive/My Drive/Colab Notebooks/'\n",
        "  data_tle = pd.read_csv(filename + 'MEANMOTION.txt')\n",
        "  data_epoch = pd.read_csv(filename + 'EPOCH.txt')\n",
        "  data = pd.concat([data_epoch, data_tle], axis=1)\n",
        "  data.columns = ['Date', 'Mean Motion'] \n",
        "  data[\"Date\"] = pd.to_datetime(data['Date'])#, unit='s')\n",
        "  data['rad per s'] = data['Mean Motion']*((2*np.pi)/86400)\n",
        "  data['Semi-major axis'] = (((398600.4418)**(1/3))/(data['rad per s']**(2/3)))-6378.137 \n",
        "\n",
        "  # Plot\n",
        "  ax.plot(data['Date'][10:], data['Semi-major axis'][10:], color='0.8', ls='-', label=satellite3_label)\n",
        "  !rm kvn.txt MEANMOTION.txt EPOCH.txt\n",
        "\n",
        "\n",
        "\n",
        "ax.spines[\"top\"].set_visible(False)\n",
        "ax.spines[\"right\"].set_visible(False)\n",
        "ax.set_ylabel('Semi-major axis (km)', fontsize=10)\n",
        "ax.set_xlabel('Date', fontsize=10)\n",
        "ax.legend(loc='upper right')\n",
        "\n",
        "plt.plot()\n",
        "\n",
        "# Remove remporary files\n"
      ],
      "execution_count": 38,
      "outputs": [
        {
          "output_type": "stream",
          "name": "stdout",
          "text": [
            "Drive already mounted at /content/gdrive; to attempt to forcibly remount, call drive.mount(\"/content/gdrive\", force_remount=True).\n",
            "/content/gdrive/My Drive/Colab Notebooks\n",
            "Requirement already satisfied: spacetrack in /usr/local/lib/python3.7/dist-packages (0.16.0)\n",
            "Requirement already satisfied: python-dateutil in /usr/local/lib/python3.7/dist-packages (from spacetrack) (2.8.2)\n",
            "Requirement already satisfied: rush in /usr/local/lib/python3.7/dist-packages (from spacetrack) (2021.4.0)\n",
            "Requirement already satisfied: represent>=1.4.0 in /usr/local/lib/python3.7/dist-packages (from spacetrack) (1.6.0.post0)\n",
            "Requirement already satisfied: logbook>=0.12.3 in /usr/local/lib/python3.7/dist-packages (from spacetrack) (1.5.3)\n",
            "Requirement already satisfied: requests in /usr/local/lib/python3.7/dist-packages (from spacetrack) (2.23.0)\n",
            "Requirement already satisfied: six>=1.8.0 in /usr/local/lib/python3.7/dist-packages (from represent>=1.4.0->spacetrack) (1.15.0)\n",
            "Requirement already satisfied: urllib3!=1.25.0,!=1.25.1,<1.26,>=1.21.1 in /usr/local/lib/python3.7/dist-packages (from requests->spacetrack) (1.24.3)\n",
            "Requirement already satisfied: chardet<4,>=3.0.2 in /usr/local/lib/python3.7/dist-packages (from requests->spacetrack) (3.0.4)\n",
            "Requirement already satisfied: idna<3,>=2.5 in /usr/local/lib/python3.7/dist-packages (from requests->spacetrack) (2.10)\n",
            "Requirement already satisfied: certifi>=2017.4.17 in /usr/local/lib/python3.7/dist-packages (from requests->spacetrack) (2021.10.8)\n",
            "Requirement already satisfied: attrs>=18.1.0 in /usr/local/lib/python3.7/dist-packages (from rush->spacetrack) (21.4.0)\n"
          ]
        },
        {
          "output_type": "execute_result",
          "data": {
            "text/plain": [
              "[]"
            ]
          },
          "metadata": {},
          "execution_count": 38
        },
        {
          "output_type": "display_data",
          "data": {
            "image/png": "[encoded data removed]",
            "text/plain": [
              "<Figure size 864x432 with 1 Axes>"
            ]
          },
          "metadata": {
            "needs_background": "light"
          }
        }
      ]
    }
  ]
}